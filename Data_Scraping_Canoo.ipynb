{
  "cells": [
    {
      "cell_type": "markdown",
      "metadata": {
        "id": "view-in-github",
        "colab_type": "text"
      },
      "source": [
        "<a href=\"https://colab.research.google.com/github/IYashCanCode/Canoo-LLM-RAG/blob/main/Data_Scraping_Canoo.ipynb\" target=\"_parent\"><img src=\"https://colab.research.google.com/assets/colab-badge.svg\" alt=\"Open In Colab\"/></a>"
      ]
    },
    {
      "cell_type": "code",
      "execution_count": null,
      "metadata": {
        "id": "uOrw6APv-Gz8"
      },
      "outputs": [],
      "source": [
        "# install duckduckgo_search  ---> pip install duckduckgo_search\n",
        "\n",
        "from duckduckgo_search import DDGS\n",
        "import pandas as pd"
      ]
    },
    {
      "cell_type": "code",
      "execution_count": null,
      "metadata": {
        "id": "cXtXKG-R_Ucv"
      },
      "outputs": [],
      "source": [
        "ddgs = DDGS()"
      ]
    },
    {
      "cell_type": "code",
      "execution_count": null,
      "metadata": {
        "id": "9huBJ2D-w72G"
      },
      "outputs": [],
      "source": [
        "#Creating dictionary of necessary questions which will help to gain the information.\n",
        "\n",
        "\n",
        "queries =   {\n",
        "                'search_1':['Identify the industry in which Canoo EV operates','Identify the industry size of Canoo Ev','Identify the Identify the industry growth rate of Canoo EV','Identify the industry trends of Canno EV',\n",
        "                             'Identify the key players in Canoo EV industry'],\n",
        "\n",
        "                'search_2' : ['Analyse Canoo EV main competitors','Analyse Canoo EV main competitors market share','Analyse Canoo EV main competitors products or services offered','Analyse Canoo EV main competitors pricing strategy',\n",
        "                              'Analyse Canoo EV main competitors marketing efforts'],\n",
        "\n",
        "                'search_3' : ['Identify the key trends in Canoo EV market','Identify the change in consumer behaviour in Canoo EV market','Identify the technological advancement in Canoo EV market',\n",
        "                              'Identify the shift in competitive advancement in Canoo EV market'],\n",
        "\n",
        "                'search_4' : ['Gather information on Canoo EV financial performance','Gather information on Canoo EV revenue','Gather information on Canoo EV profit margins','Gather information on Canoo EV ROI',\n",
        "                              'Gather information on Canoo EV expense structure']\n",
        "            }"
      ]
    },
    {
      "cell_type": "code",
      "execution_count": null,
      "metadata": {
        "id": "V8xr49VQ_WVW"
      },
      "outputs": [],
      "source": [
        "from duckduckgo_search import DDGS\n",
        "from bs4 import BeautifulSoup\n",
        "import requests\n",
        "ddgs = DDGS()"
      ]
    },
    {
      "cell_type": "code",
      "execution_count": null,
      "metadata": {
        "id": "3XD4E4YT2AHH"
      },
      "outputs": [],
      "source": [
        "# Searching for link over the internet\n",
        "\n",
        "search_url = {}\n",
        "for query,questions in queries.items():\n",
        "  for i in questions:\n",
        "    search_results = ddgs.text(i,max_results=5)                  #Searching for 5 web links related to the necessary questions.\n",
        "    if i not in search_url:\n",
        "        search_url[i] = [href['href']  for href in search_results]"
      ]
    },
    {
      "cell_type": "code",
      "execution_count": null,
      "metadata": {
        "id": "Z4nt5P5aDj03"
      },
      "outputs": [],
      "source": [
        "search_url              #printing the URL w.r.t to each question"
      ]
    },
    {
      "cell_type": "code",
      "execution_count": null,
      "metadata": {
        "id": "Yi-GlTrDzThn"
      },
      "outputs": [],
      "source": [
        "searches = []\n",
        "search_urls = []\n",
        "search_content = []\n",
        "headers = {'User-Agent': 'Mozilla/5.0 (Windows NT 6.1; WOW64) AppleWebKit/537.36 (KHTML, like Gecko) Chrome/56.0.2924.76 Safari/537.36',   #To display me as a authentic user scrapping the data\n",
        "           \"Upgrade-Insecure-Requests\": \"1\",\"DNT\": \"1\",\n",
        "           \"Accept\": \"text/html,application/xhtml+xml,application/xml;q=0.9,*/*;q=0.8\",\n",
        "           \"Accept-Language\": \"en-US,en;q=0.5\",\n",
        "           \"Accept-Encoding\": \"gzip, deflate\"}"
      ]
    },
    {
      "cell_type": "code",
      "execution_count": null,
      "metadata": {
        "id": "fkazHK-XHvw3"
      },
      "outputs": [],
      "source": [
        "for search,urls in search_url.items():\n",
        "  for url in urls:\n",
        "    print('Searching for : ',search,\"\\n\")   #Tracking the url being searched\n",
        "    website = requests.get(url,headers=headers)\n",
        "    print('URL: ',url,\"\\n\")\n",
        "    if website!=403:                        #If the website responded 403 error the data will not be requested to scrap.\n",
        "      soup = BeautifulSoup(website.text,'lxml')\n",
        "      searches.append(search)\n",
        "      search_urls.append(url)\n",
        "      search_content.append(' '.join([i.text for i in soup.find_all('p')]).replace('\\n',' ').replace('\\t',' ').replace('\\r',' '))\n",
        "    else:\n",
        "      continue"
      ]
    },
    {
      "cell_type": "code",
      "execution_count": null,
      "metadata": {
        "id": "hwrW4bbo-BCO"
      },
      "outputs": [],
      "source": [
        "DataHouse = pd.DataFrame({'Searched':searches,'Link':search_urls,'Website Content':search_content})    #Storing the data in pandas dataframe after would be converted into CSV file"
      ]
    },
    {
      "cell_type": "code",
      "execution_count": null,
      "metadata": {
        "id": "pHCO7mp_nc5N"
      },
      "outputs": [],
      "source": [
        "DataHouse.drop(DataHouse[DataHouse['Website Content']==\"\"].index,axis=0,inplace=True)                 #filtering searches which do not resulted emtpy string and removing them from original dataframe"
      ]
    },
    {
      "cell_type": "code",
      "execution_count": null,
      "metadata": {
        "id": "3TSdf9hGE-Nd"
      },
      "outputs": [],
      "source": [
        "DataHouse.to_csv('Canoo EV.csv',index=False)"
      ]
    }
  ],
  "metadata": {
    "colab": {
      "provenance": [],
      "authorship_tag": "ABX9TyNmY9hu9LkWzdBmIRaiRONX",
      "include_colab_link": true
    },
    "kernelspec": {
      "display_name": "Python 3",
      "name": "python3"
    },
    "language_info": {
      "name": "python"
    }
  },
  "nbformat": 4,
  "nbformat_minor": 0
}